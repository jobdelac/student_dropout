{
 "cells": [
  {
   "cell_type": "code",
   "execution_count": 1,
   "id": "configured-consultation",
   "metadata": {},
   "outputs": [
    {
     "ename": "ImportError",
     "evalue": "cannot import name 'SMOTEN' from 'imblearn.over_sampling' (D:\\anaconda3\\lib\\site-packages\\imblearn\\over_sampling\\__init__.py)",
     "output_type": "error",
     "traceback": [
      "\u001b[1;31m---------------------------------------------------------------------------\u001b[0m",
      "\u001b[1;31mImportError\u001b[0m                               Traceback (most recent call last)",
      "\u001b[1;32m<ipython-input-1-1235bf0e9c2d>\u001b[0m in \u001b[0;36m<module>\u001b[1;34m\u001b[0m\n\u001b[0;32m      4\u001b[0m \u001b[1;32mimport\u001b[0m \u001b[0mseaborn\u001b[0m \u001b[1;32mas\u001b[0m \u001b[0msns\u001b[0m\u001b[1;33m\u001b[0m\u001b[1;33m\u001b[0m\u001b[0m\n\u001b[0;32m      5\u001b[0m \u001b[1;33m\u001b[0m\u001b[0m\n\u001b[1;32m----> 6\u001b[1;33m \u001b[1;32mfrom\u001b[0m \u001b[0mimblearn\u001b[0m\u001b[1;33m.\u001b[0m\u001b[0mover_sampling\u001b[0m \u001b[1;32mimport\u001b[0m \u001b[0mSMOTE\u001b[0m\u001b[1;33m,\u001b[0m \u001b[0mRandomOverSampler\u001b[0m\u001b[1;33m,\u001b[0m \u001b[0mADASYN\u001b[0m\u001b[1;33m,\u001b[0m \u001b[0mBorderlineSMOTE\u001b[0m\u001b[1;33m,\u001b[0m \u001b[0mSMOTENC\u001b[0m\u001b[1;33m,\u001b[0m \u001b[0mSMOTEN\u001b[0m\u001b[1;33m\u001b[0m\u001b[1;33m\u001b[0m\u001b[0m\n\u001b[0m\u001b[0;32m      7\u001b[0m \u001b[1;33m\u001b[0m\u001b[0m\n\u001b[0;32m      8\u001b[0m \u001b[1;32mfrom\u001b[0m \u001b[0msklearn\u001b[0m\u001b[1;33m.\u001b[0m\u001b[0mpreprocessing\u001b[0m \u001b[1;32mimport\u001b[0m \u001b[0mMinMaxScaler\u001b[0m\u001b[1;33m\u001b[0m\u001b[1;33m\u001b[0m\u001b[0m\n",
      "\u001b[1;31mImportError\u001b[0m: cannot import name 'SMOTEN' from 'imblearn.over_sampling' (D:\\anaconda3\\lib\\site-packages\\imblearn\\over_sampling\\__init__.py)"
     ]
    }
   ],
   "source": [
    "import numpy as np\n",
    "import pandas as pd\n",
    "import matplotlib.pyplot as plt\n",
    "import seaborn as sns\n",
    "\n",
    "from imblearn.over_sampling import SMOTE, RandomOverSampler, ADASYN, BorderlineSMOTE, SMOTENC, SMOTEN\n",
    "\n",
    "from sklearn.preprocessing import MinMaxScaler\n",
    "from sklearn.preprocessing import LabelEncoder\n",
    "from sklearn.model_selection import train_test_split\n",
    "from sklearn.naive_bayes import GaussianNB\n",
    "from sklearn.metrics import accuracy_score, confusion_matrix, classification_report"
   ]
  },
  {
   "cell_type": "code",
   "execution_count": null,
   "id": "expired-missouri",
   "metadata": {},
   "outputs": [],
   "source": [
    "#Celda para importar datos\n",
    "\n",
    "main_df = pd.read_csv('dropout_students_data.csv', sep=';')\n",
    "main_df.info()"
   ]
  },
  {
   "cell_type": "code",
   "execution_count": null,
   "id": "athletic-certification",
   "metadata": {},
   "outputs": [],
   "source": [
    "#Celda para funcion de preprocesamiento\n",
    "def preprocess_data(dataf):\n",
    "    \n",
    "    #Definimos listas con atributos para hot y para normalizar\n",
    "    attributes_hot = ['Marital status', 'Application mode','Application order', 'Previous qualification',\n",
    "                  'Nacionality',\"Mother's qualification\",\"Father's qualification\",\"Mother's occupation\",\n",
    "                  \"Father's occupation\"]\n",
    "    \n",
    "    attributes_norm = [\"Previous qualification (grade)\",\"Curricular units 1st sem (credited)\",\n",
    "                    \"Curricular units 1st sem (enrolled)\", \"Curricular units 1st sem (evaluations)\",\n",
    "                    \"Curricular units 1st sem (approved)\", \"Curricular units 1st sem (grade)\",\n",
    "                    \"Curricular units 1st sem (without evaluations)\", \"Curricular units 2nd sem (credited)\",\n",
    "                    \"Curricular units 2nd sem (enrolled)\", \"Curricular units 2nd sem (evaluations)\", \n",
    "                    \"Curricular units 2nd sem (approved)\", \"Curricular units 2nd sem (grade)\",\n",
    "                    \"Curricular units 2nd sem (without evaluations)\",\"Admission grade\", \"Age at enrollment\"]\n",
    "     \n",
    "    def normalize_cols(data, feature):\n",
    "\n",
    "        data_backup = data.copy()\n",
    "\n",
    "        for feature_item in feature:\n",
    "            max_val = data[feature_item].max()\n",
    "            min_val = data[feature_item].min()\n",
    "            data_backup[feature_item] = (data[feature_item] - min_val) / (max_val - min_val)\n",
    "\n",
    "        return data_backup\n",
    "    \n",
    "    #Eliminamos atributos innecesarios\n",
    "    dataf.drop(columns=['Unemployment rate','Inflation rate','Course','GDP'],inplace=True)\n",
    "    \n",
    "    #Hacemos hot sobre los atributos categoricos\n",
    "    hot_df = pd.get_dummies(data=dataf, columns=attributes_hot)\n",
    "    \n",
    "    #Normalizamos las columnas que nos interesan\n",
    "    norm_df = normalize_cols(hot_df, attributes_norm)\n",
    "    \n",
    "    #------------------------------------------------------\n",
    "    # Sección para muestreo sobre el dataframe\n",
    "    class_0, class_1, class_2 = norm_df['Target'].value_counts() #número de clases del target\n",
    "\n",
    "    df_class_0 = norm_df[norm_df['Target']=='Dropout'] #Separamos el dataframe en clases\n",
    "    df_class_1 = norm_df[norm_df['Target']=='Enrolled']\n",
    "    df_class_2 = norm_df[norm_df['Target']=='Graduate']\n",
    "    \n",
    "    #Sub-muestreo de la clase más grande\n",
    "    df_class_2_under = df_class_2.sample(class_1)\n",
    "    data_under_df = pd.concat([df_class_0,df_class_1,df_class_2_under],axis=0)\n",
    "    \n",
    "    X_pre = data_under_df.drop(columns=['Target'])\n",
    "    y_pre = data_under_df['Target']\n",
    "    \"\"\"\n",
    "    #Sobre-muestreo SMOTE para la menor clase\n",
    "    sm = SMOTE(random_state = 12)\n",
    "    X, y = sm.fit_resample(X_pre, y_pre)\n",
    "    \n",
    "    #Sobre-muestreo naive-random\n",
    "    ros = RandomOverSampler(random_state=12)\n",
    "    X_ros, y_ros = ros.fit_resample(X_pre, y_pre)\n",
    "    \n",
    "    #Sobre-muestreo ADASYN\n",
    "    ada = ADASYN()\n",
    "    X_ada, y_ada = ada.fit_resample(X_pre, y_pre)\n",
    "    \"\"\"\n",
    "    #Sobre-muestreo BorderlineSMOTE\n",
    "    blsmote = BorderlineSMOTE()\n",
    "    X_bls, y_bls = blsmote.fit_resample(X_pre, y_pre)\n",
    "    \"\"\"\n",
    "    #Sobre-muestro SMONTEC\n",
    "    smote_nc = SMOTENC(categorical_features=[\"Dropout\", \"Enrolled\",\"Graduate\"], random_state=0)\n",
    "    X_resampled, y_resampled = smote_nc.fit_resample(X_pre, y_pre)\n",
    "    \"\"\"\n",
    "    #aplicamos encoding del Target\n",
    "    label_deco = LabelEncoder()\n",
    "    y_deco = label_deco.fit_transform(y_bls)\n",
    "    \n",
    "    return X_bls, y_deco, label_deco"
   ]
  },
  {
   "cell_type": "code",
   "execution_count": null,
   "id": "otherwise-retailer",
   "metadata": {},
   "outputs": [],
   "source": [
    "X, y, label_deco = preprocess_data(main_df)"
   ]
  },
  {
   "cell_type": "code",
   "execution_count": null,
   "id": "demonstrated-sacramento",
   "metadata": {},
   "outputs": [],
   "source": [
    "X_train, X_test, y_train, y_test = train_test_split(X, y, test_size=0.3, random_state=12)"
   ]
  },
  {
   "cell_type": "code",
   "execution_count": null,
   "id": "agreed-forestry",
   "metadata": {},
   "outputs": [],
   "source": [
    "gb_model = GaussianNB()\n",
    "gb_model.fit(X_train, y_train)\n",
    "\n",
    "y_pred = gb_model.predict(X_test)\n",
    "\n",
    "a0 = label_deco.inverse_transform(y_test)\n",
    "a1 = label_deco.inverse_transform(y_pred)\n",
    "\n",
    "print(classification_report(a0,a1))"
   ]
  },
  {
   "cell_type": "code",
   "execution_count": null,
   "id": "alike-tumor",
   "metadata": {},
   "outputs": [],
   "source": []
  }
 ],
 "metadata": {
  "kernelspec": {
   "display_name": "Python 3",
   "language": "python",
   "name": "python3"
  },
  "language_info": {
   "codemirror_mode": {
    "name": "ipython",
    "version": 3
   },
   "file_extension": ".py",
   "mimetype": "text/x-python",
   "name": "python",
   "nbconvert_exporter": "python",
   "pygments_lexer": "ipython3",
   "version": "3.8.8"
  }
 },
 "nbformat": 4,
 "nbformat_minor": 5
}
