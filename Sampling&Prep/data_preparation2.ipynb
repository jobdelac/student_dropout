{
 "cells": [
  {
   "cell_type": "code",
   "execution_count": 28,
   "id": "vital-master",
   "metadata": {},
   "outputs": [],
   "source": [
    "import numpy as np\n",
    "import pandas as pd\n",
    "import matplotlib.pyplot as plt\n",
    "import seaborn as sns\n",
    "\n",
    "from imblearn.over_sampling import SMOTE, RandomOverSampler, ADASYN, BorderlineSMOTE, SMOTENC\n",
    "\n",
    "from sklearn.preprocessing import MinMaxScaler\n",
    "from sklearn.preprocessing import LabelEncoder\n",
    "from sklearn.model_selection import train_test_split\n",
    "from sklearn.naive_bayes import GaussianNB\n",
    "from sklearn.metrics import accuracy_score, confusion_matrix, classification_report"
   ]
  },
  {
   "cell_type": "code",
   "execution_count": 29,
   "id": "fantastic-marketing",
   "metadata": {},
   "outputs": [
    {
     "name": "stdout",
     "output_type": "stream",
     "text": [
      "<class 'pandas.core.frame.DataFrame'>\n",
      "RangeIndex: 4424 entries, 0 to 4423\n",
      "Data columns (total 37 columns):\n",
      " #   Column                                          Non-Null Count  Dtype  \n",
      "---  ------                                          --------------  -----  \n",
      " 0   Marital status                                  4424 non-null   int64  \n",
      " 1   Application mode                                4424 non-null   int64  \n",
      " 2   Application order                               4424 non-null   int64  \n",
      " 3   Course                                          4424 non-null   int64  \n",
      " 4   Daytime/evening attendance\t                     4424 non-null   int64  \n",
      " 5   Previous qualification                          4424 non-null   int64  \n",
      " 6   Previous qualification (grade)                  4424 non-null   float64\n",
      " 7   Nacionality                                     4424 non-null   int64  \n",
      " 8   Mother's qualification                          4424 non-null   int64  \n",
      " 9   Father's qualification                          4424 non-null   int64  \n",
      " 10  Mother's occupation                             4424 non-null   int64  \n",
      " 11  Father's occupation                             4424 non-null   int64  \n",
      " 12  Admission grade                                 4424 non-null   float64\n",
      " 13  Displaced                                       4424 non-null   int64  \n",
      " 14  Educational special needs                       4424 non-null   int64  \n",
      " 15  Debtor                                          4424 non-null   int64  \n",
      " 16  Tuition fees up to date                         4424 non-null   int64  \n",
      " 17  Gender                                          4424 non-null   int64  \n",
      " 18  Scholarship holder                              4424 non-null   int64  \n",
      " 19  Age at enrollment                               4424 non-null   int64  \n",
      " 20  International                                   4424 non-null   int64  \n",
      " 21  Curricular units 1st sem (credited)             4424 non-null   int64  \n",
      " 22  Curricular units 1st sem (enrolled)             4424 non-null   int64  \n",
      " 23  Curricular units 1st sem (evaluations)          4424 non-null   int64  \n",
      " 24  Curricular units 1st sem (approved)             4424 non-null   int64  \n",
      " 25  Curricular units 1st sem (grade)                4424 non-null   float64\n",
      " 26  Curricular units 1st sem (without evaluations)  4424 non-null   int64  \n",
      " 27  Curricular units 2nd sem (credited)             4424 non-null   int64  \n",
      " 28  Curricular units 2nd sem (enrolled)             4424 non-null   int64  \n",
      " 29  Curricular units 2nd sem (evaluations)          4424 non-null   int64  \n",
      " 30  Curricular units 2nd sem (approved)             4424 non-null   int64  \n",
      " 31  Curricular units 2nd sem (grade)                4424 non-null   float64\n",
      " 32  Curricular units 2nd sem (without evaluations)  4424 non-null   int64  \n",
      " 33  Unemployment rate                               4424 non-null   float64\n",
      " 34  Inflation rate                                  4424 non-null   float64\n",
      " 35  GDP                                             4424 non-null   float64\n",
      " 36  Target                                          4424 non-null   object \n",
      "dtypes: float64(7), int64(29), object(1)\n",
      "memory usage: 1.2+ MB\n"
     ]
    }
   ],
   "source": [
    "#Celda para importar datos\n",
    "\n",
    "main_df = pd.read_csv('dropout_students_data.csv', sep=';')\n",
    "main_df.info()"
   ]
  },
  {
   "cell_type": "code",
   "execution_count": 30,
   "id": "returning-ghost",
   "metadata": {},
   "outputs": [],
   "source": [
    "#Celda para funcion de preprocesamiento\n",
    "def preprocess_data(dataf):\n",
    "    \n",
    "    #Definimos listas con atributos para hot y para normalizar\n",
    "    attributes_hot = ['Marital status', 'Application mode','Application order', 'Previous qualification',\n",
    "                  'Nacionality',\"Mother's qualification\",\"Father's qualification\",\"Mother's occupation\",\n",
    "                  \"Father's occupation\"]\n",
    "    \n",
    "    attributes_norm = [\"Previous qualification (grade)\",\"Curricular units 1st sem (credited)\",\n",
    "                    \"Curricular units 1st sem (enrolled)\", \"Curricular units 1st sem (evaluations)\",\n",
    "                    \"Curricular units 1st sem (approved)\", \"Curricular units 1st sem (grade)\",\n",
    "                    \"Curricular units 1st sem (without evaluations)\", \"Curricular units 2nd sem (credited)\",\n",
    "                    \"Curricular units 2nd sem (enrolled)\", \"Curricular units 2nd sem (evaluations)\", \n",
    "                    \"Curricular units 2nd sem (approved)\", \"Curricular units 2nd sem (grade)\",\n",
    "                    \"Curricular units 2nd sem (without evaluations)\",\"Admission grade\", \"Age at enrollment\"]\n",
    "     \n",
    "    def normalize_cols(data, feature):\n",
    "\n",
    "        data_backup = data.copy()\n",
    "\n",
    "        for feature_item in feature:\n",
    "            max_val = data[feature_item].max()\n",
    "            min_val = data[feature_item].min()\n",
    "            data_backup[feature_item] = (data[feature_item] - min_val) / (max_val - min_val)\n",
    "\n",
    "        return data_backup\n",
    "    \n",
    "    #Eliminamos atributos innecesarios\n",
    "    dataf.drop(columns=['Unemployment rate','Inflation rate','Course','GDP'],inplace=True)\n",
    "    \n",
    "    #Hacemos hot sobre los atributos categoricos\n",
    "    hot_df = pd.get_dummies(data=dataf, columns=attributes_hot)\n",
    "    \n",
    "    #Normalizamos las columnas que nos interesan\n",
    "    norm_df = normalize_cols(hot_df, attributes_norm)\n",
    "    \n",
    "    #------------------------------------------------------\n",
    "    # Sección para muestreo sobre el dataframe\n",
    "    class_0, class_1, class_2 = norm_df['Target'].value_counts() #número de clases del target\n",
    "\n",
    "    df_class_0 = norm_df[norm_df['Target']=='Dropout'] #Separamos el dataframe en clases\n",
    "    df_class_1 = norm_df[norm_df['Target']=='Enrolled']\n",
    "    df_class_2 = norm_df[norm_df['Target']=='Graduate']\n",
    "    \n",
    "    #Sub-muestreo de la clase más grande\n",
    "    df_class_2_under = df_class_2.sample(class_1)\n",
    "    data_under_df = pd.concat([df_class_0,df_class_1,df_class_2_under],axis=0)\n",
    "    \n",
    "    X_pre = data_under_df.drop(columns=['Target'])\n",
    "    y_pre = data_under_df['Target']\n",
    "    \"\"\"\n",
    "    #Sobre-muestreo SMOTE para la menor clase\n",
    "    sm = SMOTE(random_state = 12)\n",
    "    X, y = sm.fit_resample(X_pre, y_pre)\n",
    "    \n",
    "    #Sobre-muestreo naive-random\n",
    "    ros = RandomOverSampler(random_state=12)\n",
    "    X_ros, y_ros = ros.fit_resample(X_pre, y_pre)\n",
    "    \n",
    "    #Sobre-muestro SMONTEC\n",
    "    smote_nc = SMOTENC(categorical_features=[\"Dropout\", \"Enrolled\",\"Graduate\"], random_state=12)\n",
    "    X_smoc, y_smoc = smote_nc.fit_resample(X_pre, y_pre)\n",
    "    \n",
    "    #Sobre-muestreo BorderlineSMOTE\n",
    "    blsmote = BorderlineSMOTE()\n",
    "    X_bls, y_bls = blsmote.fit_resample(X_pre, y_pre)\n",
    "    \"\"\"\n",
    "    #aplicamos encoding del Target\n",
    "    label_deco = LabelEncoder()\n",
    "    y_deco = label_deco.fit_transform(y_pre)\n",
    "    y_deco = pd.DataFrame(y_deco)\n",
    "    \n",
    "    #Sobre-muestreo ADASYN\n",
    "    ada = ADASYN()\n",
    "    X_ada, y_ada = ada.fit_resample(X_pre, y_deco)\n",
    "    \"\"\"\n",
    "    #Sobre-muestreo SMOTE para la menor clase\n",
    "    sm = SMOTE(random_state = 12)\n",
    "    X_sm, y_sm = sm.fit_resample(X_pre, y_deco)\n",
    "    \"\"\"\n",
    "    return X_ada, y_ada, label_deco"
   ]
  },
  {
   "cell_type": "code",
   "execution_count": 31,
   "id": "animated-hughes",
   "metadata": {},
   "outputs": [],
   "source": [
    "X, y, label_deco = preprocess_data(main_df)"
   ]
  },
  {
   "cell_type": "code",
   "execution_count": 32,
   "id": "presidential-arizona",
   "metadata": {},
   "outputs": [],
   "source": [
    "X_train, X_test, y_train, y_test = train_test_split(X, y, test_size=0.3, random_state=12)"
   ]
  },
  {
   "cell_type": "code",
   "execution_count": 33,
   "id": "close-original",
   "metadata": {},
   "outputs": [
    {
     "name": "stdout",
     "output_type": "stream",
     "text": [
      "              precision    recall  f1-score   support\n",
      "\n",
      "     Dropout       0.73      0.13      0.23       419\n",
      "    Enrolled       0.38      0.97      0.54       436\n",
      "    Graduate       0.44      0.08      0.13       424\n",
      "\n",
      "    accuracy                           0.40      1279\n",
      "   macro avg       0.51      0.39      0.30      1279\n",
      "weighted avg       0.51      0.40      0.30      1279\n",
      "\n"
     ]
    },
    {
     "name": "stderr",
     "output_type": "stream",
     "text": [
      "D:\\anaconda3\\lib\\site-packages\\sklearn\\utils\\validation.py:63: DataConversionWarning: A column-vector y was passed when a 1d array was expected. Please change the shape of y to (n_samples, ), for example using ravel().\n",
      "  return f(*args, **kwargs)\n",
      "D:\\anaconda3\\lib\\site-packages\\sklearn\\utils\\validation.py:63: DataConversionWarning: A column-vector y was passed when a 1d array was expected. Please change the shape of y to (n_samples, ), for example using ravel().\n",
      "  return f(*args, **kwargs)\n"
     ]
    }
   ],
   "source": [
    "gb_model = GaussianNB()\n",
    "gb_model.fit(X_train, y_train)\n",
    "\n",
    "y_pred = gb_model.predict(X_test)\n",
    "\n",
    "a0 = label_deco.inverse_transform(y_test)\n",
    "a1 = label_deco.inverse_transform(y_pred)\n",
    "\n",
    "print(classification_report(a0,a1))"
   ]
  },
  {
   "cell_type": "code",
   "execution_count": 27,
   "id": "verified-playlist",
   "metadata": {},
   "outputs": [
    {
     "name": "stdout",
     "output_type": "stream",
     "text": [
      "              precision    recall  f1-score   support\n",
      "\n",
      "     Dropout       0.75      0.18      0.29       414\n",
      "    Enrolled       0.24      0.96      0.38       237\n",
      "    Graduate       0.60      0.04      0.08       440\n",
      "\n",
      "    accuracy                           0.29      1091\n",
      "   macro avg       0.53      0.39      0.25      1091\n",
      "weighted avg       0.58      0.29      0.22      1091\n",
      "\n"
     ]
    },
    {
     "name": "stderr",
     "output_type": "stream",
     "text": [
      "D:\\anaconda3\\lib\\site-packages\\sklearn\\utils\\validation.py:63: DataConversionWarning: A column-vector y was passed when a 1d array was expected. Please change the shape of y to (n_samples, ), for example using ravel().\n",
      "  return f(*args, **kwargs)\n",
      "D:\\anaconda3\\lib\\site-packages\\sklearn\\utils\\validation.py:63: DataConversionWarning: A column-vector y was passed when a 1d array was expected. Please change the shape of y to (n_samples, ), for example using ravel().\n",
      "  return f(*args, **kwargs)\n"
     ]
    }
   ],
   "source": [
    "gb_model = GaussianNB()\n",
    "gb_model.fit(X_train, y_train)\n",
    "\n",
    "y_pred = gb_model.predict(X_test)\n",
    "\n",
    "a0 = label_deco.inverse_transform(y_test)\n",
    "a1 = label_deco.inverse_transform(y_pred)\n",
    "\n",
    "print(classification_report(a0,a1))"
   ]
  },
  {
   "cell_type": "code",
   "execution_count": null,
   "id": "covered-homework",
   "metadata": {},
   "outputs": [],
   "source": []
  }
 ],
 "metadata": {
  "kernelspec": {
   "display_name": "Python 3",
   "language": "python",
   "name": "python3"
  },
  "language_info": {
   "codemirror_mode": {
    "name": "ipython",
    "version": 3
   },
   "file_extension": ".py",
   "mimetype": "text/x-python",
   "name": "python",
   "nbconvert_exporter": "python",
   "pygments_lexer": "ipython3",
   "version": "3.8.8"
  }
 },
 "nbformat": 4,
 "nbformat_minor": 5
}
